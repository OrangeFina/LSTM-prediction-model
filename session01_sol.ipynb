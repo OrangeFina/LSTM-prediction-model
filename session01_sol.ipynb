{
 "cells": [
  {
   "cell_type": "markdown",
   "metadata": {},
   "source": [
    "# 1. Our First Program: Hello World\n",
    "\n",
    "Try the following:\n",
    "- What happens if we change the text to something else?\n",
    "- What happens if we remove the quotation marks?"
   ]
  },
  {
   "cell_type": "code",
   "execution_count": 3,
   "metadata": {},
   "outputs": [
    {
     "name": "stdout",
     "output_type": "stream",
     "text": [
      "Hello NI HAO!\n",
      "Hello NUS!\n"
     ]
    }
   ],
   "source": [
    "print(\"Hello NI HAO!\")\n",
    "print(\"Hello NUS!\")"
   ]
  },
  {
   "cell_type": "markdown",
   "metadata": {},
   "source": [
    "Here, we learn that the program will only accept our code if the message is enclosed in quotation marks. In programming, words inside quotation marks are called strings.\n",
    "\n",
    "Strings are one of several data types that Python recognizes. Some others are integers, floats, and boolean values.\n",
    "\n",
    "# 2. Variables and Data Types\n",
    "\n",
    "Let's stick with strings for now. Try running the following, type a word, and hit enter. What happens? "
   ]
  },
  {
   "cell_type": "code",
   "execution_count": 7,
   "metadata": {},
   "outputs": [
    {
     "name": "stdout",
     "output_type": "stream",
     "text": [
      "What is your name?YH\n"
     ]
    },
    {
     "data": {
      "text/plain": [
       "'YH'"
      ]
     },
     "execution_count": 7,
     "metadata": {},
     "output_type": "execute_result"
    }
   ],
   "source": [
    "input(\"What is your name?\")"
   ]
  },
  {
   "cell_type": "markdown",
   "metadata": {},
   "source": [
    "Now try the following. What happens?"
   ]
  },
  {
   "cell_type": "code",
   "execution_count": 13,
   "metadata": {},
   "outputs": [
    {
     "name": "stdout",
     "output_type": "stream",
     "text": [
      "What is your name?YH\n",
      "YH\n"
     ]
    }
   ],
   "source": [
    "user_name = input(\"What is your name?\")\n",
    "print(user_name)"
   ]
  },
  {
   "cell_type": "markdown",
   "metadata": {},
   "source": [
    "The left side of the equals sign, `user_name`, is a variable. Just like variables used in math, they're abstract representations of some piece of data.\n",
    "\n",
    "The right side of the equals sign, `input`, is a function. A function is like a tool that performs a task. A function can return a value, or it may not. We'll do more with functions later on, and even write our own. But for now, think of them as commands that do useful things for us.\n",
    "\n",
    "When we use an equals sign, we assign a value to a variable.\n",
    "\n",
    "Try the following:\n",
    "- Change the variable `user_name` to something else. Does it matter what we name the variable?\n",
    "- Under the first line, assign the return value of another `input` function with a different message to `user_name`. What is printed at the end?\n",
    "- What exactly does `input` return?\n",
    "\n",
    "The `print` we used earlier is another function. What does it return? The example below replaces `input` with `print`. Try running the code—what happens?\n"
   ]
  },
  {
   "cell_type": "code",
   "execution_count": null,
   "metadata": {},
   "outputs": [],
   "source": [
    "user_name = print(\"What is your name?\")\n",
    "print(user_name)"
   ]
  },
  {
   "cell_type": "markdown",
   "metadata": {},
   "source": [
    "The above should print the word `None`. This is a special, standalone datatype in Python that represents, well, nothingness. Because our `print` function doesn't return a value, the data `None` is stored in the variable `user_name`.\n",
    "\n",
    "Speaking of data types, remember it wasn't just strings—there were also integers, floats, and booleans. First, let's look at integers. We can use standard arithmetic on these integers, with some special symbols.\n",
    "\n",
    "Try the following:\n",
    "- What do the `**` and `%` symbols do respectively?\n",
    "- What do we now know about the `print` function? Does it only\n",
    "  accept strings?"
   ]
  },
  {
   "cell_type": "code",
   "execution_count": 15,
   "metadata": {},
   "outputs": [
    {
     "name": "stdout",
     "output_type": "stream",
     "text": [
      "6\n",
      "8\n",
      "15\n",
      "10000\n",
      "0\n",
      "5.714285714285714\n",
      "55\n"
     ]
    }
   ],
   "source": [
    "ans1 = 1 + 5\n",
    "ans2 = 2 * 4\n",
    "ans3 = 5 * 3\n",
    "ans4 = 10 ** 4\n",
    "ans5 = 40 % 8 #modulus/remainder\n",
    "ans6 = 40 / 7\n",
    "ans7 = 277 // 5 #returns int after divide\n",
    "print(ans1)\n",
    "print(ans2)\n",
    "print(ans3)\n",
    "print(ans4)\n",
    "print(ans5)\n",
    "print(ans6)\n",
    "print(ans7)"
   ]
  },
  {
   "cell_type": "markdown",
   "metadata": {},
   "source": [
    "Now let's look at floats. Floats are what we call decimal values in Python. Try the following:\n",
    "- Does everything produce the expected output?"
   ]
  },
  {
   "cell_type": "code",
   "execution_count": 22,
   "metadata": {},
   "outputs": [
    {
     "name": "stdout",
     "output_type": "stream",
     "text": [
      "5.9\n",
      "1.0\n",
      "3.3\n",
      "18.0\n",
      "1.3333333333333333\n",
      "0.30000000000000004\n",
      "0.3\n",
      "0.30000000000000004441\n"
     ]
    }
   ],
   "source": [
    "ans1 = 3.4 + 2.5\n",
    "ans2 = 1.3 - 0.3\n",
    "ans3 = 2 + 1.3\n",
    "ans4 = 4.5 * 4\n",
    "ans5 = 4 / 3\n",
    "ans6 = 0.1 + 0.2\n",
    "print(ans1)\n",
    "print(ans2)\n",
    "print(ans3)\n",
    "print(ans4)\n",
    "print(ans5)\n",
    "print(ans6)\n",
    "#the 0.000000004 is a floating point\n",
    "print(\"%.1f\" % ans6) # for numbers after point\n",
    "print(\"%.20g\" % ans6) # for significant value"
   ]
  },
  {
   "cell_type": "markdown",
   "metadata": {},
   "source": [
    "Finally, we look at booleans. Booleans can only be one of two states: `True`, or `False`. In Python, these should always be capitalized. We also use the logical operators `and`, `or`, and `not`."
   ]
  },
  {
   "cell_type": "code",
   "execution_count": 23,
   "metadata": {},
   "outputs": [
    {
     "name": "stdout",
     "output_type": "stream",
     "text": [
      "True\n",
      "False\n",
      "True\n",
      "True\n",
      "False\n",
      "True\n",
      "False\n",
      "True\n"
     ]
    }
   ],
   "source": [
    "ans1 = True\n",
    "ans2 = False\n",
    "print(ans1)\n",
    "print(ans2)\n",
    "print(ans1 and ans1)\n",
    "print(ans1 or ans1)\n",
    "print(ans1 and ans2)\n",
    "print(ans1 or ans2)\n",
    "print(not ans2 and ans2) # not is opposite\n",
    "print(not (ans2 or ans2))"
   ]
  },
  {
   "cell_type": "code",
   "execution_count": 7,
   "metadata": {},
   "outputs": [
    {
     "name": "stdout",
     "output_type": "stream",
     "text": [
      "False\n"
     ]
    }
   ],
   "source": [
    "rating_score = -1\n",
    "user_count = 100\n",
    "\n",
    "print(rating_score < 0 and user_count > 100)"
   ]
  },
  {
   "cell_type": "markdown",
   "metadata": {},
   "source": [
    "We can also compare two pieces of data to see if the comparison is True or False. The symbols are called comparators.\n",
    "\n",
    "Try the following:\n",
    "- What happens when you compare two strings with `>` or `<`?"
   ]
  },
  {
   "cell_type": "code",
   "execution_count": 27,
   "metadata": {},
   "outputs": [
    {
     "name": "stdout",
     "output_type": "stream",
     "text": [
      "False\n",
      "False\n",
      "True\n",
      "False\n",
      "True\n",
      "True\n",
      "False\n",
      "True\n",
      "True\n",
      "True\n",
      "True\n"
     ]
    }
   ],
   "source": [
    "x = 1\n",
    "print(x == 2)\n",
    "print(2 == 3)\n",
    "print(\"round\" == \"round\")\n",
    "print(\"round\" == \"ground\")\n",
    "print(\"round\" != \"ground\")\n",
    "print(5 > 3)\n",
    "print(5 < 3)\n",
    "print(2 <= 2)\n",
    "print(2 >= 2)\n",
    "print(1 != \"1\")\n",
    "print(1 == 1.000000000000)"
   ]
  },
  {
   "cell_type": "markdown",
   "metadata": {},
   "source": [
    "Be careful; a double equals sign means we are comparing two values. A single equals sign means we are assigning data to a variable.\n",
    "\n",
    "Sometimes, we want to change one data type to another. This is called **casting**.\n",
    "- What do you notice about casts from float to int? Is it safe?"
   ]
  },
  {
   "cell_type": "code",
   "execution_count": 29,
   "metadata": {},
   "outputs": [
    {
     "name": "stdout",
     "output_type": "stream",
     "text": [
      "234\n",
      "52.3\n",
      "234\n",
      "True\n",
      "52\n",
      "<class 'float'>\n"
     ]
    }
   ],
   "source": [
    "print(int(\"234\"))\n",
    "print(float(\"52.3\"))\n",
    "print(str(234))\n",
    "print(str(True))\n",
    "print(int(52.8))\n",
    "\n",
    "#how to check data type\n",
    "x = float(\"234\")\n",
    "\n",
    "print(type(x))"
   ]
  },
  {
   "cell_type": "markdown",
   "metadata": {},
   "source": [
    "## Exercise 2.1\n",
    "\n",
    "Write a program that asks the user for their age, and then tells them when they will turn 100 years old."
   ]
  },
  {
   "cell_type": "code",
   "execution_count": 40,
   "metadata": {},
   "outputs": [
    {
     "name": "stdout",
     "output_type": "stream",
     "text": [
      "What is your age?12\n",
      "You will turn 100 years old in 2108\n"
     ]
    }
   ],
   "source": [
    "# Solution to Exercise 2.1\n",
    "age = int(input(\"What is your age?\"))\n",
    "print(\"You will turn 100 years old in\" + \" \" + str(100 - age + 2020))"
   ]
  },
  {
   "cell_type": "markdown",
   "metadata": {},
   "source": [
    "# 3. Coding Practices\n",
    "\n",
    "A note on conventions:\n",
    "Before, we found that we can name our variables anything. This isn't exactly true. Make sure your variable names adhere to these rules and conventions for consistency:\n",
    "- Cannot be or start with a number.\n",
    "- Cannot contain symbols (`%#!@*`).\n",
    "- All letters should be lowercase.\n",
    "- Words should be separated by an underscore (`_`).\n",
    "- Names already reserved for existing syntax (e.g. `int`, `print`, `str`) should be avoided.\n",
    "\n",
    "Try the following:\n",
    "- What makes a good variable name? What is the danger of it being too specific? Too vague? Too long? Too short?\n",
    "\n",
    "You may have noticed that some of our code contains lines that start with or contain the pound symbol (`#`). This denotes a comment; Python will ignore everything on that line following the symbol. To write a multi-line comment, use three quotation marks.\n",
    "\n",
    "Code comments make your code readable to others, and to yourself when you look back at it later."
   ]
  },
  {
   "cell_type": "code",
   "execution_count": null,
   "metadata": {},
   "outputs": [],
   "source": [
    "# A single-line comment\n",
    "\n",
    "# These are my thoughts \n",
    "# TODOs\n",
    "\n",
    "print(\"Python will only look at this line.\")\n",
    "\n",
    "\"\"\"\n",
    "A multi-\n",
    "line comment\n",
    "\"\"\""
   ]
  },
  {
   "cell_type": "markdown",
   "metadata": {},
   "source": [
    "# 4. String Concatenation and Formatting\n",
    "\n",
    "Back to strings. We can combine them like so.\n",
    "\n",
    "Try the following:\n",
    "- What does the `+=` symbol do? What do you think `-=` would do?"
   ]
  },
  {
   "cell_type": "code",
   "execution_count": 7,
   "metadata": {},
   "outputs": [
    {
     "name": "stdout",
     "output_type": "stream",
     "text": [
      "Hello darkness my old friend...\n",
      "I've come to talk with you again\n"
     ]
    },
    {
     "ename": "TypeError",
     "evalue": "unsupported operand type(s) for -=: 'str' and 'str'",
     "output_type": "error",
     "traceback": [
      "\u001b[0;31m---------------------------------------------------------------------------\u001b[0m",
      "\u001b[0;31mTypeError\u001b[0m                                 Traceback (most recent call last)",
      "\u001b[0;32m<ipython-input-7-7817477a7b7c>\u001b[0m in \u001b[0;36m<module>\u001b[0;34m\u001b[0m\n\u001b[1;32m      7\u001b[0m \u001b[0;31m#can - string also but cant remove string\u001b[0m\u001b[0;34m\u001b[0m\u001b[0;34m\u001b[0m\u001b[0;34m\u001b[0m\u001b[0m\n\u001b[1;32m      8\u001b[0m \u001b[0mlyrics\u001b[0m \u001b[0;34m=\u001b[0m \u001b[0;34m\"test test\"\u001b[0m \u001b[0;34m+\u001b[0m \u001b[0;34m\" test\"\u001b[0m\u001b[0;34m\u001b[0m\u001b[0;34m\u001b[0m\u001b[0m\n\u001b[0;32m----> 9\u001b[0;31m \u001b[0mlyrics\u001b[0m \u001b[0;34m-=\u001b[0m \u001b[0;34m\"test\"\u001b[0m\u001b[0;34m\u001b[0m\u001b[0;34m\u001b[0m\u001b[0m\n\u001b[0m\u001b[1;32m     10\u001b[0m \u001b[0;34m\u001b[0m\u001b[0m\n\u001b[1;32m     11\u001b[0m \u001b[0mprint\u001b[0m\u001b[0;34m(\u001b[0m\u001b[0mlyrics\u001b[0m\u001b[0;34m)\u001b[0m\u001b[0;34m\u001b[0m\u001b[0;34m\u001b[0m\u001b[0m\n",
      "\u001b[0;31mTypeError\u001b[0m: unsupported operand type(s) for -=: 'str' and 'str'"
     ]
    }
   ],
   "source": [
    "print(\"Hello darkness \" + \"my old friend...\")\n",
    "lyric2 = \"I've come to talk \"\n",
    "lyric2 += \"with you again\"\n",
    "\n",
    "print(lyric2)\n",
    "\n",
    "#can - string also but cant remove string\n",
    "lyrics = \"test test\" + \" test\"\n",
    "lyrics -= \"test\"\n",
    "\n",
    "print(lyrics)"
   ]
  },
  {
   "cell_type": "code",
   "execution_count": 8,
   "metadata": {},
   "outputs": [
    {
     "name": "stdout",
     "output_type": "stream",
     "text": [
      "1\n"
     ]
    }
   ],
   "source": [
    "x = 3\n",
    "x //= 3\n",
    "print(x)"
   ]
  },
  {
   "cell_type": "markdown",
   "metadata": {},
   "source": [
    "We can also intersperse data between our strings using formatters.\n",
    "\n",
    "Try the following:\n",
    "- The `format` command is another function. (Remember, tool that does stuff.) Why is it attached to the string with a dot? How is it different from `print` or `input`?"
   ]
  },
  {
   "cell_type": "code",
   "execution_count": null,
   "metadata": {},
   "outputs": [],
   "source": [
    "name = \"Jane\"\n",
    "age = 40\n",
    "occupation = \"doctor\"\n",
    "is_a_student = False\n",
    "\n",
    "biography = \"{} is a {}-year-old {} whose student status is {}\".format(name, age, occupation, is_a_student)\n",
    "print(biography)"
   ]
  },
  {
   "cell_type": "markdown",
   "metadata": {},
   "source": [
    "If you want to use the same data at multiple location of your code, you can indicate by putting numbers inside the curly braces."
   ]
  },
  {
   "cell_type": "code",
   "execution_count": 10,
   "metadata": {},
   "outputs": [
    {
     "name": "stdout",
     "output_type": "stream",
     "text": [
      "Mary had a little lamb, little lamb, little lamb\n"
     ]
    }
   ],
   "source": [
    "name = \"Mary\"\n",
    "animal = \"little lamb\"\n",
    "\n",
    "song = \"{0} had a {1}, {1}, {1}\".format(name, animal)\n",
    "print(song)"
   ]
  },
  {
   "cell_type": "markdown",
   "metadata": {},
   "source": [
    "## Exercise 4.1\n",
    "\n",
    "Write a program that takes a restaurant order from the user via the `input` function. Try to ask at least 6 questions, and make your interactions complex by asking for topping and sauce choices. Make the program repeat your order to you at the end."
   ]
  },
  {
   "cell_type": "code",
   "execution_count": 9,
   "metadata": {},
   "outputs": [
    {
     "ename": "KeyboardInterrupt",
     "evalue": "",
     "output_type": "error",
     "traceback": [
      "\u001b[0;31m---------------------------------------------------------------------------\u001b[0m",
      "\u001b[0;31mKeyboardInterrupt\u001b[0m                         Traceback (most recent call last)",
      "\u001b[0;32m~/opt/anaconda3/lib/python3.7/site-packages/ipykernel/kernelbase.py\u001b[0m in \u001b[0;36m_input_request\u001b[0;34m(self, prompt, ident, parent, password)\u001b[0m\n\u001b[1;32m    884\u001b[0m             \u001b[0;32mtry\u001b[0m\u001b[0;34m:\u001b[0m\u001b[0;34m\u001b[0m\u001b[0;34m\u001b[0m\u001b[0m\n\u001b[0;32m--> 885\u001b[0;31m                 \u001b[0mident\u001b[0m\u001b[0;34m,\u001b[0m \u001b[0mreply\u001b[0m \u001b[0;34m=\u001b[0m \u001b[0mself\u001b[0m\u001b[0;34m.\u001b[0m\u001b[0msession\u001b[0m\u001b[0;34m.\u001b[0m\u001b[0mrecv\u001b[0m\u001b[0;34m(\u001b[0m\u001b[0mself\u001b[0m\u001b[0;34m.\u001b[0m\u001b[0mstdin_socket\u001b[0m\u001b[0;34m,\u001b[0m \u001b[0;36m0\u001b[0m\u001b[0;34m)\u001b[0m\u001b[0;34m\u001b[0m\u001b[0;34m\u001b[0m\u001b[0m\n\u001b[0m\u001b[1;32m    886\u001b[0m             \u001b[0;32mexcept\u001b[0m \u001b[0mException\u001b[0m\u001b[0;34m:\u001b[0m\u001b[0;34m\u001b[0m\u001b[0;34m\u001b[0m\u001b[0m\n",
      "\u001b[0;32m~/opt/anaconda3/lib/python3.7/site-packages/jupyter_client/session.py\u001b[0m in \u001b[0;36mrecv\u001b[0;34m(self, socket, mode, content, copy)\u001b[0m\n\u001b[1;32m    802\u001b[0m         \u001b[0;32mtry\u001b[0m\u001b[0;34m:\u001b[0m\u001b[0;34m\u001b[0m\u001b[0;34m\u001b[0m\u001b[0m\n\u001b[0;32m--> 803\u001b[0;31m             \u001b[0mmsg_list\u001b[0m \u001b[0;34m=\u001b[0m \u001b[0msocket\u001b[0m\u001b[0;34m.\u001b[0m\u001b[0mrecv_multipart\u001b[0m\u001b[0;34m(\u001b[0m\u001b[0mmode\u001b[0m\u001b[0;34m,\u001b[0m \u001b[0mcopy\u001b[0m\u001b[0;34m=\u001b[0m\u001b[0mcopy\u001b[0m\u001b[0;34m)\u001b[0m\u001b[0;34m\u001b[0m\u001b[0;34m\u001b[0m\u001b[0m\n\u001b[0m\u001b[1;32m    804\u001b[0m         \u001b[0;32mexcept\u001b[0m \u001b[0mzmq\u001b[0m\u001b[0;34m.\u001b[0m\u001b[0mZMQError\u001b[0m \u001b[0;32mas\u001b[0m \u001b[0me\u001b[0m\u001b[0;34m:\u001b[0m\u001b[0;34m\u001b[0m\u001b[0;34m\u001b[0m\u001b[0m\n",
      "\u001b[0;32m~/opt/anaconda3/lib/python3.7/site-packages/zmq/sugar/socket.py\u001b[0m in \u001b[0;36mrecv_multipart\u001b[0;34m(self, flags, copy, track)\u001b[0m\n\u001b[1;32m    474\u001b[0m         \"\"\"\n\u001b[0;32m--> 475\u001b[0;31m         \u001b[0mparts\u001b[0m \u001b[0;34m=\u001b[0m \u001b[0;34m[\u001b[0m\u001b[0mself\u001b[0m\u001b[0;34m.\u001b[0m\u001b[0mrecv\u001b[0m\u001b[0;34m(\u001b[0m\u001b[0mflags\u001b[0m\u001b[0;34m,\u001b[0m \u001b[0mcopy\u001b[0m\u001b[0;34m=\u001b[0m\u001b[0mcopy\u001b[0m\u001b[0;34m,\u001b[0m \u001b[0mtrack\u001b[0m\u001b[0;34m=\u001b[0m\u001b[0mtrack\u001b[0m\u001b[0;34m)\u001b[0m\u001b[0;34m]\u001b[0m\u001b[0;34m\u001b[0m\u001b[0;34m\u001b[0m\u001b[0m\n\u001b[0m\u001b[1;32m    476\u001b[0m         \u001b[0;31m# have first part already, only loop while more to receive\u001b[0m\u001b[0;34m\u001b[0m\u001b[0;34m\u001b[0m\u001b[0;34m\u001b[0m\u001b[0m\n",
      "\u001b[0;32mzmq/backend/cython/socket.pyx\u001b[0m in \u001b[0;36mzmq.backend.cython.socket.Socket.recv\u001b[0;34m()\u001b[0m\n",
      "\u001b[0;32mzmq/backend/cython/socket.pyx\u001b[0m in \u001b[0;36mzmq.backend.cython.socket.Socket.recv\u001b[0;34m()\u001b[0m\n",
      "\u001b[0;32mzmq/backend/cython/socket.pyx\u001b[0m in \u001b[0;36mzmq.backend.cython.socket._recv_copy\u001b[0;34m()\u001b[0m\n",
      "\u001b[0;32m~/opt/anaconda3/lib/python3.7/site-packages/zmq/backend/cython/checkrc.pxd\u001b[0m in \u001b[0;36mzmq.backend.cython.checkrc._check_rc\u001b[0;34m()\u001b[0m\n",
      "\u001b[0;31mKeyboardInterrupt\u001b[0m: ",
      "\nDuring handling of the above exception, another exception occurred:\n",
      "\u001b[0;31mKeyboardInterrupt\u001b[0m                         Traceback (most recent call last)",
      "\u001b[0;32m<ipython-input-9-de9e9ffc026f>\u001b[0m in \u001b[0;36m<module>\u001b[0;34m\u001b[0m\n\u001b[1;32m      1\u001b[0m \u001b[0;31m# Solution to Exercise 4.1\u001b[0m\u001b[0;34m\u001b[0m\u001b[0;34m\u001b[0m\u001b[0;34m\u001b[0m\u001b[0m\n\u001b[0;32m----> 2\u001b[0;31m \u001b[0mbase\u001b[0m \u001b[0;34m=\u001b[0m \u001b[0minput\u001b[0m\u001b[0;34m(\u001b[0m\u001b[0;34m\"Base? \"\u001b[0m\u001b[0;34m)\u001b[0m\u001b[0;34m\u001b[0m\u001b[0;34m\u001b[0m\u001b[0m\n\u001b[0m\u001b[1;32m      3\u001b[0m \u001b[0mtopping\u001b[0m \u001b[0;34m=\u001b[0m \u001b[0minput\u001b[0m\u001b[0;34m(\u001b[0m\u001b[0;34m\"Topping? \"\u001b[0m\u001b[0;34m)\u001b[0m\u001b[0;34m\u001b[0m\u001b[0;34m\u001b[0m\u001b[0m\n\u001b[1;32m      4\u001b[0m \u001b[0msauce\u001b[0m \u001b[0;34m=\u001b[0m \u001b[0minput\u001b[0m\u001b[0;34m(\u001b[0m\u001b[0;34m\"Sauce? \"\u001b[0m\u001b[0;34m)\u001b[0m\u001b[0;34m\u001b[0m\u001b[0;34m\u001b[0m\u001b[0m\n\u001b[1;32m      5\u001b[0m \u001b[0mmeat\u001b[0m \u001b[0;34m=\u001b[0m \u001b[0minput\u001b[0m\u001b[0;34m(\u001b[0m\u001b[0;34m\"Meat? \"\u001b[0m\u001b[0;34m)\u001b[0m\u001b[0;34m\u001b[0m\u001b[0;34m\u001b[0m\u001b[0m\n",
      "\u001b[0;32m~/opt/anaconda3/lib/python3.7/site-packages/ipykernel/kernelbase.py\u001b[0m in \u001b[0;36mraw_input\u001b[0;34m(self, prompt)\u001b[0m\n\u001b[1;32m    858\u001b[0m             \u001b[0mself\u001b[0m\u001b[0;34m.\u001b[0m\u001b[0m_parent_ident\u001b[0m\u001b[0;34m,\u001b[0m\u001b[0;34m\u001b[0m\u001b[0;34m\u001b[0m\u001b[0m\n\u001b[1;32m    859\u001b[0m             \u001b[0mself\u001b[0m\u001b[0;34m.\u001b[0m\u001b[0m_parent_header\u001b[0m\u001b[0;34m,\u001b[0m\u001b[0;34m\u001b[0m\u001b[0;34m\u001b[0m\u001b[0m\n\u001b[0;32m--> 860\u001b[0;31m             \u001b[0mpassword\u001b[0m\u001b[0;34m=\u001b[0m\u001b[0;32mFalse\u001b[0m\u001b[0;34m,\u001b[0m\u001b[0;34m\u001b[0m\u001b[0;34m\u001b[0m\u001b[0m\n\u001b[0m\u001b[1;32m    861\u001b[0m         )\n\u001b[1;32m    862\u001b[0m \u001b[0;34m\u001b[0m\u001b[0m\n",
      "\u001b[0;32m~/opt/anaconda3/lib/python3.7/site-packages/ipykernel/kernelbase.py\u001b[0m in \u001b[0;36m_input_request\u001b[0;34m(self, prompt, ident, parent, password)\u001b[0m\n\u001b[1;32m    888\u001b[0m             \u001b[0;32mexcept\u001b[0m \u001b[0mKeyboardInterrupt\u001b[0m\u001b[0;34m:\u001b[0m\u001b[0;34m\u001b[0m\u001b[0;34m\u001b[0m\u001b[0m\n\u001b[1;32m    889\u001b[0m                 \u001b[0;31m# re-raise KeyboardInterrupt, to truncate traceback\u001b[0m\u001b[0;34m\u001b[0m\u001b[0;34m\u001b[0m\u001b[0;34m\u001b[0m\u001b[0m\n\u001b[0;32m--> 890\u001b[0;31m                 \u001b[0;32mraise\u001b[0m \u001b[0mKeyboardInterrupt\u001b[0m\u001b[0;34m\u001b[0m\u001b[0;34m\u001b[0m\u001b[0m\n\u001b[0m\u001b[1;32m    891\u001b[0m             \u001b[0;32melse\u001b[0m\u001b[0;34m:\u001b[0m\u001b[0;34m\u001b[0m\u001b[0;34m\u001b[0m\u001b[0m\n\u001b[1;32m    892\u001b[0m                 \u001b[0;32mbreak\u001b[0m\u001b[0;34m\u001b[0m\u001b[0;34m\u001b[0m\u001b[0m\n",
      "\u001b[0;31mKeyboardInterrupt\u001b[0m: "
     ]
    }
   ],
   "source": [
    "# Solution to Exercise 4.1\n",
    "base = input(\"Base? \")\n",
    "topping = input(\"Topping? \")\n",
    "sauce = input(\"Sauce? \")\n",
    "meat = input(\"Meat? \")\n",
    "veg = input(\"Vegetables? \")\n",
    "order = \"You ordered {} with {} topping and {} sauce, with {} as your meat and {} as your vegetables.\"\n",
    "\n",
    "final_order = order.format(base, topping, sauce, meat, veg)\n",
    "print(final_order)"
   ]
  },
  {
   "cell_type": "markdown",
   "metadata": {},
   "source": [
    "# 5. Conditionals\n",
    "\n",
    "First, here is a program that asks the user for their name, and greets them with their name."
   ]
  },
  {
   "cell_type": "code",
   "execution_count": null,
   "metadata": {},
   "outputs": [],
   "source": [
    "user_name = input(\"What is your name?\")\n",
    "greeting = \"Hello there, {}! Nice to meet you.\".format(user_name)\n",
    "print(greeting)\n",
    "\n",
    "# We can actually put the last two lines together. Do you see why?\n",
    "# print('Hello there, {}! Nice to meet you.'.format(user_name))"
   ]
  },
  {
   "cell_type": "markdown",
   "metadata": {},
   "source": [
    "Let's say this was a roller-coaster ride admission program. We want to accept entry if their height is over 140cm."
   ]
  },
  {
   "cell_type": "code",
   "execution_count": null,
   "metadata": {},
   "outputs": [],
   "source": [
    "user_name = input(\"What is your name?\")\n",
    "greeting = \"Hello there, {}! Nice to meet you.\".format(user_name)\n",
    "print(greeting)\n",
    "user_height = input(\"What is your height?\")\n",
    "\n",
    "if int(user_height) >= 140:\n",
    "    # Everything that is indented is part of the if/else block.\n",
    "    print(\"You may ride the roller-coaster.\")\n",
    "    print(\"Have fun!\")\n",
    "else:\n",
    "    print(\"You're too short to ride the roller-coaster.\")"
   ]
  },
  {
   "cell_type": "markdown",
   "metadata": {},
   "source": [
    "The syntax is...\n",
    "\n",
    "```\n",
    "if <SOME CONDITION>:\n",
    "    <DO SOMETHING>\n",
    "else:\n",
    "    <DO SOMETHING ELSE>\n",
    "```\n",
    "\n",
    "The condition can use any of the comparators we learned about previously.\n",
    "\n",
    "What if the ride is somewhat culturally aware, and can greet people depending on their nationality? To account for multiple cases, you can use the `elif` syntax.\n",
    "\n",
    "Try the following:\n",
    "- What happens if you replace the elif's with if's? Why?"
   ]
  },
  {
   "cell_type": "code",
   "execution_count": null,
   "metadata": {},
   "outputs": [],
   "source": [
    "nationality = input(\"What is your nationality?\")\n",
    "\n",
    "if nationality == \"American\":\n",
    "    print(\"Hello!\")\n",
    "elif nationality == \"French\":\n",
    "    print(\"Bonjour!\")\n",
    "elif nationality == \"Spanish\":\n",
    "    print(\"Hola!\")\n",
    "else:\n",
    "    print(\"Hi!\")"
   ]
  },
  {
   "cell_type": "markdown",
   "metadata": {},
   "source": [
    "You can even put a conditional inside another one. This is known as **nesting**."
   ]
  },
  {
   "cell_type": "code",
   "execution_count": 26,
   "metadata": {},
   "outputs": [
    {
     "name": "stdout",
     "output_type": "stream",
     "text": [
      "What is the meaning of life?42\n",
      "As a reward, I would like a... (pick one: car, vacation, pat on the back)car\n",
      "You win a Volkswagen Beetle!\n",
      "As a reward, I would like a... (pick one: car, vacation, pat on the back)car\n",
      "You win a Volkswagen Beetle!\n",
      "As a reward, I would like a... (pick one: car, vacation, pat on the back)car\n",
      "You win a Volkswagen Beetle!\n",
      "As a reward, I would like a... (pick one: car, vacation, pat on the back)car\n",
      "You win a Volkswagen Beetle!\n"
     ]
    },
    {
     "ename": "KeyboardInterrupt",
     "evalue": "",
     "output_type": "error",
     "traceback": [
      "\u001b[0;31m---------------------------------------------------------------------------\u001b[0m",
      "\u001b[0;31mKeyboardInterrupt\u001b[0m                         Traceback (most recent call last)",
      "\u001b[0;32m~/opt/anaconda3/lib/python3.7/site-packages/ipykernel/kernelbase.py\u001b[0m in \u001b[0;36m_input_request\u001b[0;34m(self, prompt, ident, parent, password)\u001b[0m\n\u001b[1;32m    884\u001b[0m             \u001b[0;32mtry\u001b[0m\u001b[0;34m:\u001b[0m\u001b[0;34m\u001b[0m\u001b[0;34m\u001b[0m\u001b[0m\n\u001b[0;32m--> 885\u001b[0;31m                 \u001b[0mident\u001b[0m\u001b[0;34m,\u001b[0m \u001b[0mreply\u001b[0m \u001b[0;34m=\u001b[0m \u001b[0mself\u001b[0m\u001b[0;34m.\u001b[0m\u001b[0msession\u001b[0m\u001b[0;34m.\u001b[0m\u001b[0mrecv\u001b[0m\u001b[0;34m(\u001b[0m\u001b[0mself\u001b[0m\u001b[0;34m.\u001b[0m\u001b[0mstdin_socket\u001b[0m\u001b[0;34m,\u001b[0m \u001b[0;36m0\u001b[0m\u001b[0;34m)\u001b[0m\u001b[0;34m\u001b[0m\u001b[0;34m\u001b[0m\u001b[0m\n\u001b[0m\u001b[1;32m    886\u001b[0m             \u001b[0;32mexcept\u001b[0m \u001b[0mException\u001b[0m\u001b[0;34m:\u001b[0m\u001b[0;34m\u001b[0m\u001b[0;34m\u001b[0m\u001b[0m\n",
      "\u001b[0;32m~/opt/anaconda3/lib/python3.7/site-packages/jupyter_client/session.py\u001b[0m in \u001b[0;36mrecv\u001b[0;34m(self, socket, mode, content, copy)\u001b[0m\n\u001b[1;32m    802\u001b[0m         \u001b[0;32mtry\u001b[0m\u001b[0;34m:\u001b[0m\u001b[0;34m\u001b[0m\u001b[0;34m\u001b[0m\u001b[0m\n\u001b[0;32m--> 803\u001b[0;31m             \u001b[0mmsg_list\u001b[0m \u001b[0;34m=\u001b[0m \u001b[0msocket\u001b[0m\u001b[0;34m.\u001b[0m\u001b[0mrecv_multipart\u001b[0m\u001b[0;34m(\u001b[0m\u001b[0mmode\u001b[0m\u001b[0;34m,\u001b[0m \u001b[0mcopy\u001b[0m\u001b[0;34m=\u001b[0m\u001b[0mcopy\u001b[0m\u001b[0;34m)\u001b[0m\u001b[0;34m\u001b[0m\u001b[0;34m\u001b[0m\u001b[0m\n\u001b[0m\u001b[1;32m    804\u001b[0m         \u001b[0;32mexcept\u001b[0m \u001b[0mzmq\u001b[0m\u001b[0;34m.\u001b[0m\u001b[0mZMQError\u001b[0m \u001b[0;32mas\u001b[0m \u001b[0me\u001b[0m\u001b[0;34m:\u001b[0m\u001b[0;34m\u001b[0m\u001b[0;34m\u001b[0m\u001b[0m\n",
      "\u001b[0;32m~/opt/anaconda3/lib/python3.7/site-packages/zmq/sugar/socket.py\u001b[0m in \u001b[0;36mrecv_multipart\u001b[0;34m(self, flags, copy, track)\u001b[0m\n\u001b[1;32m    474\u001b[0m         \"\"\"\n\u001b[0;32m--> 475\u001b[0;31m         \u001b[0mparts\u001b[0m \u001b[0;34m=\u001b[0m \u001b[0;34m[\u001b[0m\u001b[0mself\u001b[0m\u001b[0;34m.\u001b[0m\u001b[0mrecv\u001b[0m\u001b[0;34m(\u001b[0m\u001b[0mflags\u001b[0m\u001b[0;34m,\u001b[0m \u001b[0mcopy\u001b[0m\u001b[0;34m=\u001b[0m\u001b[0mcopy\u001b[0m\u001b[0;34m,\u001b[0m \u001b[0mtrack\u001b[0m\u001b[0;34m=\u001b[0m\u001b[0mtrack\u001b[0m\u001b[0;34m)\u001b[0m\u001b[0;34m]\u001b[0m\u001b[0;34m\u001b[0m\u001b[0;34m\u001b[0m\u001b[0m\n\u001b[0m\u001b[1;32m    476\u001b[0m         \u001b[0;31m# have first part already, only loop while more to receive\u001b[0m\u001b[0;34m\u001b[0m\u001b[0;34m\u001b[0m\u001b[0;34m\u001b[0m\u001b[0m\n",
      "\u001b[0;32mzmq/backend/cython/socket.pyx\u001b[0m in \u001b[0;36mzmq.backend.cython.socket.Socket.recv\u001b[0;34m()\u001b[0m\n",
      "\u001b[0;32mzmq/backend/cython/socket.pyx\u001b[0m in \u001b[0;36mzmq.backend.cython.socket.Socket.recv\u001b[0;34m()\u001b[0m\n",
      "\u001b[0;32mzmq/backend/cython/socket.pyx\u001b[0m in \u001b[0;36mzmq.backend.cython.socket._recv_copy\u001b[0;34m()\u001b[0m\n",
      "\u001b[0;32m~/opt/anaconda3/lib/python3.7/site-packages/zmq/backend/cython/checkrc.pxd\u001b[0m in \u001b[0;36mzmq.backend.cython.checkrc._check_rc\u001b[0;34m()\u001b[0m\n",
      "\u001b[0;31mKeyboardInterrupt\u001b[0m: ",
      "\nDuring handling of the above exception, another exception occurred:\n",
      "\u001b[0;31mKeyboardInterrupt\u001b[0m                         Traceback (most recent call last)",
      "\u001b[0;32m<ipython-input-26-60bdbea42477>\u001b[0m in \u001b[0;36m<module>\u001b[0;34m\u001b[0m\n\u001b[1;32m     18\u001b[0m \u001b[0;34m\u001b[0m\u001b[0m\n\u001b[1;32m     19\u001b[0m \u001b[0;32mwhile\u001b[0m \u001b[0;34m(\u001b[0m\u001b[0mreward_choice\u001b[0m \u001b[0;34m!=\u001b[0m \u001b[0;34m\"car\"\u001b[0m \u001b[0;32mor\u001b[0m \u001b[0;34m\"vacation\"\u001b[0m \u001b[0;32mor\u001b[0m \u001b[0;34m\"pat on the back\"\u001b[0m\u001b[0;34m)\u001b[0m\u001b[0;34m:\u001b[0m\u001b[0;34m\u001b[0m\u001b[0;34m\u001b[0m\u001b[0m\n\u001b[0;32m---> 20\u001b[0;31m     \u001b[0mreward_choice\u001b[0m \u001b[0;34m=\u001b[0m \u001b[0minput\u001b[0m\u001b[0;34m(\u001b[0m\u001b[0mreward_question\u001b[0m\u001b[0;34m)\u001b[0m\u001b[0;34m\u001b[0m\u001b[0;34m\u001b[0m\u001b[0m\n\u001b[0m\u001b[1;32m     21\u001b[0m     \u001b[0;32mif\u001b[0m \u001b[0mreward_choice\u001b[0m \u001b[0;34m==\u001b[0m \u001b[0;34m\"car\"\u001b[0m\u001b[0;34m:\u001b[0m\u001b[0;34m\u001b[0m\u001b[0;34m\u001b[0m\u001b[0m\n\u001b[1;32m     22\u001b[0m         \u001b[0mprint\u001b[0m\u001b[0;34m(\u001b[0m\u001b[0;34m\"You win a Volkswagen Beetle!\"\u001b[0m\u001b[0;34m)\u001b[0m\u001b[0;34m\u001b[0m\u001b[0;34m\u001b[0m\u001b[0m\n",
      "\u001b[0;32m~/opt/anaconda3/lib/python3.7/site-packages/ipykernel/kernelbase.py\u001b[0m in \u001b[0;36mraw_input\u001b[0;34m(self, prompt)\u001b[0m\n\u001b[1;32m    858\u001b[0m             \u001b[0mself\u001b[0m\u001b[0;34m.\u001b[0m\u001b[0m_parent_ident\u001b[0m\u001b[0;34m,\u001b[0m\u001b[0;34m\u001b[0m\u001b[0;34m\u001b[0m\u001b[0m\n\u001b[1;32m    859\u001b[0m             \u001b[0mself\u001b[0m\u001b[0;34m.\u001b[0m\u001b[0m_parent_header\u001b[0m\u001b[0;34m,\u001b[0m\u001b[0;34m\u001b[0m\u001b[0;34m\u001b[0m\u001b[0m\n\u001b[0;32m--> 860\u001b[0;31m             \u001b[0mpassword\u001b[0m\u001b[0;34m=\u001b[0m\u001b[0;32mFalse\u001b[0m\u001b[0;34m,\u001b[0m\u001b[0;34m\u001b[0m\u001b[0;34m\u001b[0m\u001b[0m\n\u001b[0m\u001b[1;32m    861\u001b[0m         )\n\u001b[1;32m    862\u001b[0m \u001b[0;34m\u001b[0m\u001b[0m\n",
      "\u001b[0;32m~/opt/anaconda3/lib/python3.7/site-packages/ipykernel/kernelbase.py\u001b[0m in \u001b[0;36m_input_request\u001b[0;34m(self, prompt, ident, parent, password)\u001b[0m\n\u001b[1;32m    888\u001b[0m             \u001b[0;32mexcept\u001b[0m \u001b[0mKeyboardInterrupt\u001b[0m\u001b[0;34m:\u001b[0m\u001b[0;34m\u001b[0m\u001b[0;34m\u001b[0m\u001b[0m\n\u001b[1;32m    889\u001b[0m                 \u001b[0;31m# re-raise KeyboardInterrupt, to truncate traceback\u001b[0m\u001b[0;34m\u001b[0m\u001b[0;34m\u001b[0m\u001b[0;34m\u001b[0m\u001b[0m\n\u001b[0;32m--> 890\u001b[0;31m                 \u001b[0;32mraise\u001b[0m \u001b[0mKeyboardInterrupt\u001b[0m\u001b[0;34m\u001b[0m\u001b[0;34m\u001b[0m\u001b[0m\n\u001b[0m\u001b[1;32m    891\u001b[0m             \u001b[0;32melse\u001b[0m\u001b[0;34m:\u001b[0m\u001b[0;34m\u001b[0m\u001b[0;34m\u001b[0m\u001b[0m\n\u001b[1;32m    892\u001b[0m                 \u001b[0;32mbreak\u001b[0m\u001b[0;34m\u001b[0m\u001b[0;34m\u001b[0m\u001b[0m\n",
      "\u001b[0;31mKeyboardInterrupt\u001b[0m: "
     ]
    }
   ],
   "source": [
    "quiz_question = \"What is the meaning of life?\"\n",
    "correct_answer = 42\n",
    "reward_question = \"As a reward, I would like a... (pick one: car, vacation, pat on the back)\"\n",
    "\n",
    "answer_choice = input(quiz_question)\n",
    "if int(answer_choice) != correct_answer:\n",
    "    print(\"Uh oh! That's not right.\")\n",
    "else:\n",
    "    reward_choice = input(reward_question)\n",
    "    if reward_choice == \"car\":\n",
    "        print(\"You win a Volkswagen Beetle!\")\n",
    "    elif reward_choice == \"vacation\":\n",
    "        print(\"You win a trip to Hawaii!\")\n",
    "    elif reward_choice == \"pat on the back\":\n",
    "        print(\"Way to stay humble. Here's your pat on the back.\")\n",
    "    else:\n",
    "        print(\"CAN YOU TYPE PROPERLY?\")\n",
    "        \n",
    "while (reward_choice != \"car\" or \"vacation\" or \"pat on the back\"):\n",
    "    reward_choice = input(reward_question)\n",
    "    if reward_choice == \"car\":\n",
    "        print(\"You win a Volkswagen Beetle!\")\n",
    "    elif reward_choice == \"vacation\":\n",
    "        print(\"You win a trip to Hawaii!\")\n",
    "    elif reward_choice == \"pat on the back\":\n",
    "        print(\"Way to stay humble. Here's your pat on the back.\")\n",
    "    else:\n",
    "        print(\"CAN YOU TYPE PROPERLY?\")"
   ]
  },
  {
   "cell_type": "markdown",
   "metadata": {},
   "source": [
    "# Exercise 5.1\n",
    "\n",
    "Write a program that asks the user for a number, and tells them if it is odd or even. "
   ]
  },
  {
   "cell_type": "code",
   "execution_count": null,
   "metadata": {},
   "outputs": [],
   "source": [
    "# Solution to Exercise 5.1\n",
    "user_input = int(input(\"Give me a number? \"))\n",
    "\n",
    "if user_input % 2 == 0:\n",
    "    print(\"It is even.\")\n",
    "else:\n",
    "    print(\"It is odd.\")"
   ]
  },
  {
   "cell_type": "markdown",
   "metadata": {},
   "source": [
    "## Exercise 5.2\n",
    "\n",
    "Write a program that asks the user for three numbers, and tells them the largest of the three."
   ]
  },
  {
   "cell_type": "code",
   "execution_count": 18,
   "metadata": {},
   "outputs": [
    {
     "name": "stdout",
     "output_type": "stream",
     "text": [
      "Pick a number... (1/3)20\n",
      "Pick a number... (2/3)5\n",
      "Pick a number... (3/3)10\n",
      "Method 1: using if/elif/else\n",
      "20\n",
      "Method 2: using the max function\n",
      "20\n"
     ]
    }
   ],
   "source": [
    "# Solution to Exercise 5.2\n",
    "num1 = int(input(\"Pick a number... (1/3)\")) #10\n",
    "num2 = int(input(\"Pick a number... (2/3)\")) #5\n",
    "num3 = int(input(\"Pick a number... (3/3)\")) #20\n",
    "\n",
    "\n",
    "print(\"Method 1: using if/elif/else\")\n",
    "if (num1 >= num2 and num1 >= num3):\n",
    "    largest = num1\n",
    "elif (num2 >= num1 and num2 >= num3):\n",
    "    largest = num2\n",
    "else:\n",
    "    largest = num3\n",
    "\n",
    "print(largest)\n",
    "# alternative\n",
    "print(\"Method 2: using the max function\")\n",
    "print(max(10, 5, 20))"
   ]
  },
  {
   "cell_type": "markdown",
   "metadata": {},
   "source": [
    "###### 6. Debugging Errors\n",
    "\n",
    "You will 100% encounter an error at some point in this course, if you haven't already. Debugging is the process of resolving these errors.\n",
    "\n",
    "When debugging a piece of code, remember to always check the error type and line number. If there are multiple lines, check the bottom- most one in the message.\n",
    "\n",
    "Python has rules (i.e. syntax). If you don't follow these rules, you get a SyntaxError. This is the easiest type to debug. It could be anything from a missing colon, quotation mark, or indent."
   ]
  },
  {
   "cell_type": "code",
   "execution_count": null,
   "metadata": {},
   "outputs": [],
   "source": [
    "nationality = \"American\"\n",
    "if nationality == \"American\"\n",
    "    print(\"Hello!\")\n",
    "\n",
    "person_name = \"Bryan\""
   ]
  },
  {
   "cell_type": "markdown",
   "metadata": {},
   "source": [
    "Other errors occur even when your syntax is perfect. A NameError occurs when you try to use a variable or function you haven't defined yet. A TypeError occurs when you try to use the wrong data type for an operation.\n",
    "\n",
    "Try the following:\n",
    "\n",
    "- What happens if you try to divide an integer by zero?"
   ]
  },
  {
   "cell_type": "code",
   "execution_count": 9,
   "metadata": {},
   "outputs": [
    {
     "ename": "NameError",
     "evalue": "name 'person_name' is not defined",
     "output_type": "error",
     "traceback": [
      "\u001b[0;31m---------------------------------------------------------------------------\u001b[0m",
      "\u001b[0;31mNameError\u001b[0m                                 Traceback (most recent call last)",
      "\u001b[0;32m<ipython-input-9-3fc3952d8cbb>\u001b[0m in \u001b[0;36m<module>\u001b[0;34m\u001b[0m\n\u001b[0;32m----> 1\u001b[0;31m \u001b[0mgreeting\u001b[0m \u001b[0;34m=\u001b[0m \u001b[0;34m\"Hello, {}\"\u001b[0m\u001b[0;34m.\u001b[0m\u001b[0mformat\u001b[0m\u001b[0;34m(\u001b[0m\u001b[0mperson_name\u001b[0m\u001b[0;34m)\u001b[0m\u001b[0;34m\u001b[0m\u001b[0;34m\u001b[0m\u001b[0m\n\u001b[0m",
      "\u001b[0;31mNameError\u001b[0m: name 'person_name' is not defined"
     ]
    }
   ],
   "source": [
    "greeting = \"Hello, {}\".format(person_name)\n",
    "\n"
   ]
  },
  {
   "cell_type": "code",
   "execution_count": 8,
   "metadata": {},
   "outputs": [
    {
     "ename": "TypeError",
     "evalue": "can only concatenate str (not \"int\") to str",
     "output_type": "error",
     "traceback": [
      "\u001b[0;31m---------------------------------------------------------------------------\u001b[0m",
      "\u001b[0;31mTypeError\u001b[0m                                 Traceback (most recent call last)",
      "\u001b[0;32m<ipython-input-8-0988235571cd>\u001b[0m in \u001b[0;36m<module>\u001b[0;34m\u001b[0m\n\u001b[0;32m----> 1\u001b[0;31m \u001b[0manswer\u001b[0m \u001b[0;34m=\u001b[0m \u001b[0;34m\"2\"\u001b[0m \u001b[0;34m+\u001b[0m \u001b[0;36m4\u001b[0m\u001b[0;34m\u001b[0m\u001b[0;34m\u001b[0m\u001b[0m\n\u001b[0m",
      "\u001b[0;31mTypeError\u001b[0m: can only concatenate str (not \"int\") to str"
     ]
    }
   ],
   "source": [
    "answer = \"2\" + 4"
   ]
  },
  {
   "cell_type": "markdown",
   "metadata": {},
   "source": [
    "# 7. While Loops\n",
    "\n",
    "Sometimes, we want to perform an action repeatedly until a condition is\n",
    "satisfied. This is when we use a while loop. The syntax is similar to that\n",
    "of a conditional:\n",
    "\n",
    "```\n",
    "while <CONDITION IS TRUE>:\n",
    "    <DO SOMETHING>\n",
    "```\n",
    "\n",
    "Suppose we don't want the user to proceed until they type the correct answer. That would look like this:"
   ]
  },
  {
   "cell_type": "code",
   "execution_count": null,
   "metadata": {},
   "outputs": [],
   "source": [
    "correct_answer = 42\n",
    "question = \"What is the meaning of life?\"\n",
    "\n",
    "user_guess = input(question)\n",
    "while True:\n",
    "    print(\"You shall not pass!\")\n",
    "    user_guess = input(question)\n",
    "    if int(user_guess) == correct_answer:\n",
    "        break\n",
    "\n",
    "print(\"Congratulations! You answered the question correctly.\")"
   ]
  },
  {
   "cell_type": "code",
   "execution_count": null,
   "metadata": {},
   "outputs": [],
   "source": [
    "# Alternate solution\n",
    "correct_answer = 42\n",
    "question = \"What is the meaning of life?\"\n",
    "\n",
    "user_guess = input(question)\n",
    "while int(user_guess) != correct_answer:\n",
    "    print(\"You shall not pass!\")\n",
    "    user_guess = input(question)\n",
    "\n",
    "print(\"Congratulations! You answered the question correctly.\")"
   ]
  },
  {
   "cell_type": "markdown",
   "metadata": {},
   "source": [
    "While loops can be dangerous if they don't terminate. In your code, make\n",
    "sure your condition becomes false at some point."
   ]
  },
  {
   "cell_type": "markdown",
   "metadata": {},
   "source": [
    "## Exercise 7.1\n",
    "\n",
    "Write a program that asks the user to respond. If they respond with \"Y\", \"y\", \"yes\", or \"YES\", the program should print \"The user entered yes\". If they respond with \"N\", \"n\", \"no\", or \"NO\", it should print \"The user entered no\". Otherwise, the program should keep on asking."
   ]
  },
  {
   "cell_type": "code",
   "execution_count": null,
   "metadata": {},
   "outputs": [],
   "source": [
    "# Solution to Exercise 7.1\n",
    "no_response = True\n",
    "while no_response:\n",
    "    response = input(\"Enter a response: \")\n",
    "    if response == \"Y\" or response == \"y\" or response == \"yes\" or response == \"YES\":\n",
    "        print(\"The user entered yes\")\n",
    "        no_response = False\n",
    "    elif response == \"Y\" or response == \"y\" or response == \"yes\" or response == \"YES\":\n",
    "        print(\"The user entered no\")\n",
    "        no_response = False"
   ]
  },
  {
   "cell_type": "markdown",
   "metadata": {},
   "source": [
    "## Exercise 7.2\n",
    "\n",
    "Modify Exercise 7.1 to keep track of the number of attempts it took to get a valid response, and print that number."
   ]
  },
  {
   "cell_type": "code",
   "execution_count": null,
   "metadata": {},
   "outputs": [],
   "source": [
    "# Solution to Exercise 7.2\n",
    "no_response = True\n",
    "num_attempts = 0\n",
    "while no_response:\n",
    "    num_attempts += 1\n",
    "    response = input(\"Enter a response: \")\n",
    "    if response in [\"Y\", \"y\", \"yes\", \"YES\"]:\n",
    "        print(\"The user entered yes after {} tries.\".format(num_attempts))\n",
    "        no_response = False\n",
    "    elif response in [\"Y\", \"y\", \"yes\", \"YES\"]:\n",
    "        print(\"The user entered yes after {} tries.\".format(num_attempts))\n",
    "        no_response = False"
   ]
  },
  {
   "cell_type": "markdown",
   "metadata": {},
   "source": [
    "## Exercise 7.3\n",
    "\n",
    "Write a program that accepts a number from the user's input, and calculates the factorial of that number."
   ]
  },
  {
   "cell_type": "code",
   "execution_count": null,
   "metadata": {},
   "outputs": [],
   "source": [
    "# Solution to Exercise 7.3\n",
    "number = int(input(\"Enter a number: \"))\n",
    "result = 1\n",
    "while number != 0:\n",
    "    result *= number\n",
    "    number -= 1\n",
    "\n",
    "print(result)"
   ]
  },
  {
   "cell_type": "markdown",
   "metadata": {},
   "source": [
    "# Interlude\n",
    "\n",
    "From here, we will be covering the most important parts of learning enough of the Python language for us to start building a user interface. But we will leave things out, in the interest of time. To assist you in your exercises, problem sets, and project, please use the official Python documentation if you are unsure about a concept, or would like to know more in depth.\n",
    "\n",
    "https://docs.python.org/3/\n"
   ]
  },
  {
   "cell_type": "markdown",
   "metadata": {},
   "source": [
    "# 8. Lists\n",
    "\n",
    "Lists allow us to store multiple pieces of data in one container.\n",
    "\n",
    "An item in a list is called an **element**. We call the position of an element in a list its **index** (plural: indices).\n",
    "\n",
    "Things to note:\n",
    "- List indices start counting from zero.\n",
    "- One list can contain items of different data types\n",
    "- Lists can be empty\n",
    "\n",
    "Try the following:\n",
    "- What happens when you access index 0 of `empty_list`?"
   ]
  },
  {
   "cell_type": "code",
   "execution_count": 30,
   "metadata": {},
   "outputs": [
    {
     "name": "stdout",
     "output_type": "stream",
     "text": [
      "5\n",
      "Jane\n",
      "['Joe', 'Jenn']\n",
      "['Jenn', 'Jack', 'Jill']\n",
      "['Jane', 'Joe']\n",
      "['Jenn', 'Jack']\n",
      "[123, 'abc', True, False]\n",
      "[]\n"
     ]
    }
   ],
   "source": [
    "name_list = [\"Jane\", \"Joe\", \"Jenn\", \"Jack\", \"Jill\"]\n",
    "# Positive indices\n",
    "#           |   0   |  1  |   2   |   3   |   4   |\n",
    "# Slicing   0       1     2       3       4       5\n",
    "# Negative indices\n",
    "#           |  -5   |  -4 |   -3  |   -2  |   -1  |\n",
    "# Slicing  -6      -5    -4      -3      -2      -1\n",
    "\n",
    "# \"len\" is short for \"length\". It returns the number of elements in the list.\n",
    "print(len(name_list))\n",
    "\n",
    "# First item of a list is always 0.\n",
    "print(name_list[0])\n",
    "\n",
    "# In general, the syntax is:\n",
    "# list_variable[start_index:end_index]\n",
    "print(name_list[1:3])\n",
    "\n",
    "# If the left side of the colon is empty, it slices to the end of the list.\n",
    "print(name_list[2:])\n",
    "\n",
    "# If the right side of the colon is empty, it slices from the beginning of the list.\n",
    "print(name_list[:2])\n",
    "\n",
    "# Negative indices can also be used to slice.\n",
    "print(name_list[-3:-1])\n",
    "\n",
    "# Lists can contain any mixture of data types\n",
    "misc_list = [123, \"abc\", True, False]\n",
    "empty_list = []\n",
    "\n",
    "print(misc_list)\n",
    "print(empty_list)"
   ]
  },
  {
   "cell_type": "markdown",
   "metadata": {},
   "source": [
    "Strings actually operate very much like lists, if you think of every character in the string as an item in the list. We call a subset of a given string a substring."
   ]
  },
  {
   "cell_type": "code",
   "execution_count": null,
   "metadata": {},
   "outputs": [],
   "source": [
    "name = \"Singapore\"\n",
    "print(len(name))\n",
    "print(name[0])\n",
    "print(name[1:3])\n",
    "print(name[2:])\n",
    "print(name[:2])\n",
    "print(name[-1])"
   ]
  },
  {
   "cell_type": "markdown",
   "metadata": {},
   "source": [
    "Back to lists. We can perform operations on lists, like adding, editing, and removing items. Details can be found in the [docs](https://docs.python.org/3/tutorial/datastructures.html#more-on-lists)."
   ]
  },
  {
   "cell_type": "code",
   "execution_count": null,
   "metadata": {},
   "outputs": [],
   "source": [
    "name_list = [\"Jane\", \"Joe\", \"Jenn\", \"Jack\"]  # create a new list\n",
    "\n",
    "print(\"Jenn\" in name_list) # check whether \"Jenn\" is in the list\n",
    "print(\"John\" in name_list) # check whether \"John\" is in the list\n",
    "\n",
    "nothing = name_list.append(\"Jessica\")  # add a new item to the end of the list\n",
    "name_list.insert(2, \"Jacob\")  # insert a new item at given index\n",
    "name_list.index(\"Jenn\")  # return the index value of an item in the list\n",
    "name_list.remove(\"Jack\")  # remove an item from the list\n",
    "name_list.sort()  # sort the list\n",
    "name_list.reverse()  # reverse the list\n",
    "something = name_list.pop(4)  # remove and return the item at the given index\n",
    "\n",
    "print(name_list)\n",
    "\n",
    "\n",
    "# For lists of numbers\n",
    "number_list = [5, 6, 12, 4, 2]\n",
    "print(sum(number_list)) # sums all numbers in the list\n",
    "print(max(number_list)) # find the maximum... recall Exercise 5.2!\n",
    "print(min(number_list)) # find the minimum"
   ]
  },
  {
   "cell_type": "markdown",
   "metadata": {},
   "source": [
    "Because of the somewhat close relationship between lists and strings, here are two functions that help the two types interact, `join` and `split`."
   ]
  },
  {
   "cell_type": "code",
   "execution_count": null,
   "metadata": {},
   "outputs": [],
   "source": [
    "# From list to string\n",
    "name_list = [\"Jane\", \"Joe\", \"Jenn\", \"Jack\"]  # create a new list\n",
    "name_str = \",\".join(name_list) # combines all elements of the list into a single string, with the specified separator\n",
    "print(name_str)\n",
    "\n",
    "# From string to list\n",
    "name_str = \"Jane and Joe and Jenn and Jack\"\n",
    "name_list = name_str.split(\" and \")\n",
    "name_list\n"
   ]
  },
  {
   "cell_type": "markdown",
   "metadata": {},
   "source": [
    "Remember, `.join()` and `.split()` are methods of strings, so they must come after a string separated by a period `.`"
   ]
  },
  {
   "cell_type": "markdown",
   "metadata": {},
   "source": [
    "You can even have a list within a list. This means that the elements in your outer list are lists themselves.\n",
    "\n",
    "This might seem, strange, but nested data structures are very useful. For example, we can use them to represent rows and columns of a 2-D board!"
   ]
  },
  {
   "cell_type": "code",
   "execution_count": null,
   "metadata": {},
   "outputs": [],
   "source": [
    "list_of_lists = [[\"a\", \"b\", \"c\", \"d\"],     # 0th index\n",
    "                 [\"e\", \"f\", \"g\", \"h\"],     # 1st index\n",
    "                 [\"i\", \"j\", \"k\"]]          # 2nd index\n",
    "\n",
    "print(list_of_lists[0][1])\n",
    "print(list_of_lists[1][2])"
   ]
  },
  {
   "cell_type": "markdown",
   "metadata": {},
   "source": [
    "## Exercise 8.1\n",
    "\n",
    "Suppose you are given the list of names we've been using in our examples. Write a program that repeatedly asks the user to type in a name.\n",
    "- If the name already exists in the list, notify the user \"Name already exists\".\n",
    "- If the list does not contain the name, add the name and notify the user \"Name added to list\".\n",
    "- In both cases, sort and print the updated list of names in alphabetical order.\n",
    "- End the program if the user types \"quit\"."
   ]
  },
  {
   "cell_type": "code",
   "execution_count": null,
   "metadata": {},
   "outputs": [],
   "source": [
    "# Solution to Exercise 8.1\n",
    "name_list = [\"Jane\", \"Joe\", \"Jenn\", \"Jack\"]\n",
    "running = True\n",
    "while(running):\n",
    "    name = input(\"Type in a name:\")\n",
    "    if (name == \"quit\"):\n",
    "        running = False\n",
    "    elif (name in name_list):\n",
    "        print(\"Name already exists\")\n",
    "    else:\n",
    "        name_list.append(name)\n",
    "        print(\"Name added to list\")\n",
    "    name_list.sort()\n",
    "    print(name_list)\n"
   ]
  },
  {
   "cell_type": "markdown",
   "metadata": {},
   "source": [
    "# 9. For loops\n",
    "\n",
    "While loops allow us to repeat an action **while it satisfies a condition**. What if we want to repeat an action **for every element in a list**? For that, we use a for loop. The syntax looks like this:\n",
    "\n",
    "```\n",
    "    for <ELEMENT> in <LIST>:\n",
    "        <DO SOMETHING>\n",
    "```\n",
    "\n",
    "Again, be careful of the colon and the indentation. Below is a more concrete example.\n",
    "\n",
    "Try the following:\n",
    "- Does it matter what the variable `person_name` is called?\n",
    "- Can you access the variable `person_name` outside of the for loop?"
   ]
  },
  {
   "cell_type": "code",
   "execution_count": 31,
   "metadata": {},
   "outputs": [
    {
     "name": "stdout",
     "output_type": "stream",
     "text": [
      "My name is Jane\n",
      "My name is Jack\n",
      "My name is Jenn\n",
      "My name is Joe\n",
      "Joe\n"
     ]
    }
   ],
   "source": [
    "name_list = [\"Jane\", \"Jack\", \"Jenn\", \"Joe\"]\n",
    "\n",
    "for person_name in name_list:\n",
    "    print(\"My name is \" + person_name)\n",
    "\n",
    "# You can access variables outside the scope/block in which they are defined.\n",
    "print(person_name)"
   ]
  },
  {
   "cell_type": "markdown",
   "metadata": {},
   "source": [
    "Some terminology and syntax here:\n",
    "- Every \"loop\" cycle is called an **iteration** of the loop.\n",
    "- You can skip to the next iteration by writing `continue`\n",
    "- You can exit a loop completely by writing `break`\n",
    "\n",
    "Note that these apply to both for and while loops."
   ]
  },
  {
   "cell_type": "code",
   "execution_count": null,
   "metadata": {},
   "outputs": [],
   "source": [
    "name_list = [\"Jane\", \"Jack\", \"Jenn\", \"Joe\", \"Jessica\", \"Jacob\"]\n",
    "\n",
    "for person_name in name_list:\n",
    "    if person_name == \"Jenn\":\n",
    "        continue\n",
    "    print(person_name)\n",
    "    if person_name == \"Jessica\":\n",
    "        break"
   ]
  },
  {
   "cell_type": "markdown",
   "metadata": {},
   "source": [
    "Often, you don't want to iterate on a particular list, and instead want to perform an action `N` times. In Session 01, we achieved this using a while loop, and incrementing a variable to keep track. An easier approach is to use a for loop.\n",
    "\n",
    "Here, we introduce the **`range`** function. Remember again, a function is a tool that does something. The `input` function gives us the value of some user's inputted text. The `range` function gives us a list of integers.\n",
    "\n",
    "Try the following:\n",
    "- Replace `range(3)` with some variants, and observe the output:\n",
    "  - `range(6)`\n",
    "  - `range(2, 7)`\n",
    "  - `range(4, 20, 5)`\n",
    "  - `range(7, 2, -1)`"
   ]
  },
  {
   "cell_type": "code",
   "execution_count": 38,
   "metadata": {},
   "outputs": [
    {
     "name": "stdout",
     "output_type": "stream",
     "text": [
      "3\n",
      "4\n"
     ]
    }
   ],
   "source": [
    "for element in range(3,5):\n",
    "    print(element)"
   ]
  },
  {
   "cell_type": "markdown",
   "metadata": {},
   "source": [
    "You can even nest your for loops, like you did with while loops. Why is this useful? You can iterate through multiple dimensions!"
   ]
  },
  {
   "cell_type": "code",
   "execution_count": null,
   "metadata": {},
   "outputs": [],
   "source": [
    "first_names = [\"Jane\", \"Jack\", \"Jenn\", \"Joe\"]\n",
    "last_names = [\"Jackson\", \"Johnson\", \"Jacobson\", \"Jefferson\"]\n",
    "\n",
    "for first_name in first_names:\n",
    "    # Iterating through first_name\n",
    "    for last_name in last_names:\n",
    "        # Iterating through last_name\n",
    "        print(first_name, last_name)\n",
    "        "
   ]
  },
  {
   "cell_type": "markdown",
   "metadata": {
    "collapsed": true
   },
   "source": [
    "## Exercise 9.1\n",
    "\n",
    "Write a program that finds and prints the maximum value of a list of integers, without using any built-in functions."
   ]
  },
  {
   "cell_type": "code",
   "execution_count": null,
   "metadata": {},
   "outputs": [],
   "source": [
    "# Solution to Exercise 9.1\n",
    "nums = [5,4,1,7,2,6,3]\n",
    "curr_max = 0\n",
    "for num in nums:\n",
    "    if num > curr_max:\n",
    "        curr_max = num\n",
    "print(curr_max)"
   ]
  },
  {
   "cell_type": "markdown",
   "metadata": {},
   "source": [
    "## Exercise 9.2\n",
    "\n",
    "Write a program that computes and prints the mean of a list of integers, without using any built-in functions."
   ]
  },
  {
   "cell_type": "code",
   "execution_count": 35,
   "metadata": {},
   "outputs": [
    {
     "name": "stdout",
     "output_type": "stream",
     "text": [
      "4.0\n"
     ]
    }
   ],
   "source": [
    "# Solution to Exercise 9.2\n",
    "nums = [5,4,1,7,2,6,3]\n",
    "\n",
    "numera = 0\n",
    "denome = 0\n",
    "for x in nums:\n",
    "    numera += x\n",
    "    denome += 1\n",
    "    \n",
    "mean = numera / denome\n",
    "print(mean)"
   ]
  },
  {
   "cell_type": "markdown",
   "metadata": {},
   "source": [
    "## Exercise 9.3\n",
    "\n",
    "Write a program that asks the user for a single English word. Then, print out the word with the characters reversed. Do not use any built-in functions except for `range`. Remember, strings work similarly to lists."
   ]
  },
  {
   "cell_type": "code",
   "execution_count": 4,
   "metadata": {},
   "outputs": [
    {
     "name": "stdout",
     "output_type": "stream",
     "text": [
      "A single word: Test\n",
      "tseT\n"
     ]
    }
   ],
   "source": [
    "# Solution to Exercise 9.3\n",
    "word = input(\"A single word: \")\n",
    "\n",
    "# We need to count from the last index to the first index.\n",
    "\n",
    "# len(word) - 1 gives the last index of the word.\n",
    "# len('Hello') is 5, but the last index is 4 because we count from 0.\n",
    "start_index = len(word) - 1\n",
    "\n",
    "# We need to put -1 because range() will generate up to, but not include the last index.\n",
    "last_index = -1\n",
    "\n",
    "# -1 means we count backwards by 1.\n",
    "step_size = -1\n",
    "\n",
    "new_word = \"\"\n",
    "for index in range(start_index, last_index, step_size):\n",
    "    new_word += word[index]\n",
    "\n",
    "print(new_word)"
   ]
  },
  {
   "cell_type": "markdown",
   "metadata": {},
   "source": [
    "## Exercise 9.4\n",
    "\n",
    "Write a program that asks the user for a sentence with multiple words. Then, print out the sentence with the word order preserved but letter order reversed. Do not use any built-in functions except for `range`, `split`, and `join`."
   ]
  },
  {
   "cell_type": "code",
   "execution_count": 5,
   "metadata": {},
   "outputs": [
    {
     "name": "stdout",
     "output_type": "stream",
     "text": [
      "Enter a sentence: Jeffrey Cheong\n",
      "yerffeJ gnoehC\n"
     ]
    }
   ],
   "source": [
    "# Solution to Exercise 9.4\n",
    "sentence = input(\"Enter a sentence: \")\n",
    "\n",
    "# Split the string into a list of strings with \" \" as the separator.\n",
    "word_list = sentence.split(\" \")\n",
    "new_word_list = []\n",
    "\n",
    "for word in word_list:\n",
    "    new_word = \"\"\n",
    "    for i in range(len(word)-1, -1, -1):\n",
    "        new_word += word[i]\n",
    "    new_word_list.append(new_word)\n",
    "\n",
    "new_sentence = \" \".join(new_word_list)\n",
    "\n",
    "print(new_sentence)"
   ]
  },
  {
   "cell_type": "markdown",
   "metadata": {},
   "source": [
    "## Exercise 9.5\n",
    "\n",
    "Write a program that calculates the sums of each inner list in a nested list. For example, given the list\n",
    "```\n",
    "[[5, 2, 10], [4, 3, 5], [12, 1, 0]]\n",
    "```\n",
    "the program should produce the list\n",
    "```\n",
    "[17, 12, 13]\n",
    "```"
   ]
  },
  {
   "cell_type": "code",
   "execution_count": null,
   "metadata": {},
   "outputs": [],
   "source": [
    "# Solution to Exercise 9.5\n",
    "example = [[5, 2, 10], [4, 3, 5], [12, 1, 0]]\n",
    "\n",
    "# Temporary list to build our resulting list on\n",
    "new_list = []\n",
    "\n",
    "for nested_list in example:\n",
    "    # We use a counter to track the sum of each nested list.\n",
    "    # For each new nested_list, the count should reset to 0.\n",
    "    temp_sum = 0\n",
    "    \n",
    "    for number in nested_list:\n",
    "        temp_sum += number\n",
    "    \n",
    "    new_list.append(temp_sum)\n",
    "\n",
    "print(new_list)"
   ]
  },
  {
   "cell_type": "markdown",
   "metadata": {},
   "source": [
    "# 10. Functions and Modules\n",
    "\n",
    "Our working definition of a **function** has been that it is a tool that can perform certain operations. Now, we will learn more about using functions that other people have created, and writing our own functions.\n",
    "\n",
    "In short, we can do two things with functions: **call** them, and **define** them.\n",
    "\n",
    "## Calling Functions\n",
    "\n",
    "Using a function is often referred to as **calling** the function.\n",
    "\n",
    "A function:\n",
    "- *MUST* perform some action.\n",
    "- *CAN* have one or more inputs, that it will use while performing the action.\n",
    "- *CAN* have one or more outputs, that is the result of performing the action.\n",
    "\n",
    "Let's look more closely at some functions we've already covered.\n",
    "\n",
    "1. `print`\n",
    "    - Action: Prints some data on the screen.\n",
    "    - Inputs: The data to be printed\n",
    "    - Outputs: None\n",
    "\n",
    "2. `input`\n",
    "    - Action: Prints a prompt to the screen, and accepts some textual input from the user.\n",
    "    - Inputs: The prompt text (string)\n",
    "    - Outputs: The user's input (string)\n",
    "\n",
    "3. `<List>.insert`\n",
    "    - Action: Inserts an element into a list at the given index position.\n",
    "    - Inputs: The index position and the element to insert\n",
    "    - Outputs: None\n",
    "\n",
    "In programming, the inputs are called **parameters** or **arguments**. The outputs are called **return values**.\n",
    "\n",
    "Some functions accept multiple data types for their arguments, while others don't. Always check the documentation for reference.\n",
    "\n",
    "For the functions that do return a value, we can capture their output by assigning it to a variable. That is what we've been doing with our `input` function.\n",
    "\n",
    "```\n",
    "user_name = input(\"What is your name?\")\n",
    "```\n",
    "\n",
    "## Defining Functions\n",
    "\n",
    "We can also write our own functions.\n",
    "\n",
    "The syntax is:\n",
    "\n",
    "```\n",
    "    def <FUNCTION NAME>(<PARAM1>, <PARAM2>...):\n",
    "        <DO SOMETHING>\n",
    "        \n",
    "        return <RETURN VALUE>\n",
    "```\n",
    "\n",
    "Pay careful attention to the location of the parentheses, commas, colon, and indentation.\n",
    "\n",
    "The last line is optional. A function will stop operating when it reaches a `return` command. If the `return` command is not followed by a value, the function returns `None`.\n",
    "\n",
    "**Even if you define a function, nothing will happen unless you call it!**\n",
    "\n",
    "Here are a few examples.\n",
    "\n",
    "Try the following:\n",
    "- Does the order of the parameters matter?\n",
    "- Does it matter what you name the function? What are the rules and conventions for naming functions?\n",
    "- Does it matter what you name the parameters?\n",
    "- What happens if you only give the third function a value for `name` but not `age`?"
   ]
  },
  {
   "cell_type": "code",
   "execution_count": 6,
   "metadata": {},
   "outputs": [
    {
     "name": "stdout",
     "output_type": "stream",
     "text": [
      "Happy birthday to you!\n",
      "Have a great day!\n",
      "Happy birthday, Alice!\n",
      "Have a great day!\n",
      "Happy National Day, Alice!\n",
      "7.0\n"
     ]
    }
   ],
   "source": [
    "# A function with no input and no output\n",
    "def wish_happy_birthday():\n",
    "    print(\"Happy birthday to you!\")\n",
    "    print(\"Have a great day!\")\n",
    "    \n",
    "wish_happy_birthday()\n",
    "\n",
    "\n",
    "# A function with one input and no output\n",
    "def wish_happy_birthday_with_name(name):\n",
    "    print(\"Happy birthday, {}!\".format(name))\n",
    "    print(\"Have a great day!\")\n",
    "\n",
    "wish_happy_birthday_with_name(\"Alice\")\n",
    "\n",
    "\n",
    "# A function with multiple inputs and no output\n",
    "def greeting_with_name_and_holiday(name, holiday):\n",
    "    print(\"Happy {}, {}!\".format(holiday, name))\n",
    "    \n",
    "greeting_with_name_and_holiday(\"Alice\", \"National Day\")\n",
    "\n",
    "\n",
    "# A function with multiple inputs and one output\n",
    "def average(num1, num2):\n",
    "    avg = (num1 + num2) / 2\n",
    "    return avg\n",
    "\n",
    "avg_of_2_and_12 = average(2, 12)\n",
    "print(avg_of_2_and_12)\n"
   ]
  },
  {
   "cell_type": "markdown",
   "metadata": {},
   "source": [
    "Notice that the first three functions grow increasingly more **abstract**. With `greeting_with_name_and_holiday`, we can greet any person, for any holiday occasion. For example,\n",
    "\n",
    "```\n",
    "greeting_with_name_and_holiday(\"Alice\", \"National Day\")\n",
    "greeting_with_name_and_holiday(\"Bob\", \"Chinese New Year\")\n",
    "greeting_with_name_and_holiday(\"Clara\", \"Hari Raya\")\n",
    "greeting_with_name_and_holiday(\"Dan\", \"Deepavali\")\n",
    "```\n",
    "\n",
    "This is the greatest advantage to using functions. It makes our code **flexible** and **repeatable**, even when our programs become more complex."
   ]
  },
  {
   "cell_type": "markdown",
   "metadata": {},
   "source": [
    "## Exercise 10.1\n",
    "\n",
    "Write two functions, `find_maximum` and `find_mean` that both take a list of integers as an argument. They should return the maximum and mean of the provided list, respectively. You are encouraged to reuse/adapt your code from Exercises 9.1 and 9.2."
   ]
  },
  {
   "cell_type": "code",
   "execution_count": 5,
   "metadata": {},
   "outputs": [
    {
     "name": "stdout",
     "output_type": "stream",
     "text": [
      "10\n",
      "3.857142857142857\n"
     ]
    }
   ],
   "source": [
    "# Solution to Exercise 10.1\n",
    "def find_maximum(nums):\n",
    "    curr_max = 0\n",
    "    for n in nums:\n",
    "        if n > curr_max:\n",
    "            curr_max = n\n",
    "    return curr_max\n",
    "\n",
    "print(find_maximum([1, 2, 4, 4, 5, 1, 10]))\n",
    "\n",
    "def find_mean(data):\n",
    "    total = 0\n",
    "    curr_sum = 0\n",
    "    for num in data:\n",
    "        total += num\n",
    "        curr_sum += 1\n",
    "\n",
    "    mean = total / curr_sum\n",
    "    return mean\n",
    "\n",
    "print(find_mean([1, 2, 4, 4, 5, 1, 10]))"
   ]
  },
  {
   "cell_type": "markdown",
   "metadata": {},
   "source": [
    "## Exercise 10.2\n",
    "\n",
    "Write a function that takes one integer, and returns `True` if it is prime, and `False` otherwise."
   ]
  },
  {
   "cell_type": "code",
   "execution_count": 11,
   "metadata": {},
   "outputs": [
    {
     "name": "stdout",
     "output_type": "stream",
     "text": [
      "6\n",
      "2\n",
      "6\n",
      "3\n",
      "6\n",
      "4\n",
      "6\n",
      "5\n",
      "True\n"
     ]
    }
   ],
   "source": [
    "# Solution to Exercise 10.2\n",
    "def is_prime(x): \n",
    "    if x < 2:\n",
    "        return False\n",
    "    \n",
    "    # For a given number, we only need to check up until half its range\n",
    "    for y in range(2, x // 2): #range(start, stop, step) \n",
    "        print(x // 2)\n",
    "        print(y)\n",
    "        if x % y == 0:\n",
    "            # Just like \"break\" terminates a while loop immediately,\n",
    "            # using \"return\" anywhere in the program immediately halts\n",
    "            # it and nothing else below the \"return\" is run.\n",
    "            return False\n",
    "    return True\n",
    "\n",
    "# print(is_prime(1))\n",
    "# print(is_prime(2))\n",
    "# print(is_prime(12))\n",
    "print(is_prime(13))\n"
   ]
  },
  {
   "cell_type": "markdown",
   "metadata": {},
   "source": [
    "## Exercise 10.3\n",
    "\n",
    "Write a function that checks whether a number is in a given range. How many parameters do you need?"
   ]
  },
  {
   "cell_type": "code",
   "execution_count": null,
   "metadata": {},
   "outputs": [],
   "source": [
    "# Solution to Exercise 10.3\n",
    "def in_range(num, lo, hi):\n",
    "    # Here's a one-line function. You don't always need to return a variable.\n",
    "    return num >= lo and num <= hi\n",
    "\n",
    "print(in_range(5, 2, 6))\n",
    "print(in_range(5, 2, 4))"
   ]
  },
  {
   "cell_type": "markdown",
   "metadata": {},
   "source": [
    "## Exercise 10.4\n",
    "\n",
    "A pangram is a sentence that contains every word of the alphabet at least once. For example, the sentence \"A quick brown fox jumps over the lazy dog\" is a pangram. Write a function that takes a sentence as an argument, and returns `True` if it is a pangram, and `False` otherwise."
   ]
  },
  {
   "cell_type": "code",
   "execution_count": null,
   "metadata": {},
   "outputs": [],
   "source": [
    "# Solution to Exercise 10.4\n",
    "import string\n",
    "# The line import string just lets us access more functionality of strings.\n",
    "# 'string' is also a module, or a package of code that we can import\n",
    "# to extend functionality of our code.\n",
    "# string.acsii_lowercase returns a string with all lowercase characters.\n",
    "chars = string.ascii_lowercase\n",
    "\n",
    "def is_pangram(sentence):\n",
    "    sentence = sentence.lower() # Simplify the search by lowercasing everything\n",
    "    # We need to run through every character and make sure it is in the sentence\n",
    "    # If even one character is not in the sentence, it is not a pangram.\n",
    "    for char in chars:\n",
    "        if char not in sentence:\n",
    "            return False\n",
    "    \n",
    "    return True\n",
    "\n",
    "print(is_pangram(\"A quick brown fox jumps over the lazy dog\"))\n",
    "print(is_pangram(\"A slow brown fox jumps over the lazy dog\"))"
   ]
  },
  {
   "cell_type": "markdown",
   "metadata": {},
   "source": [
    "# 11. Tuples and Dictionaries\n",
    "\n",
    "Other than lists, Python has some additional ways of storing multiple pieces of data.\n",
    "\n",
    "## Tuples\n",
    "\n",
    "Tuples store a sequence of data, just like lists. They can also be accessed like lists. The difference is that lists are *mutable*, meaning the elements it stores can be changed, while tuples are *immutable*, meaning they cannot be changed.\n",
    "\n",
    "Tuples use parentheses instead of square brackets.\n",
    "\n",
    "Check out the [docs](https://docs.python.org/3/tutorial/datastructures.html#tuples-and-sequences) for more information."
   ]
  },
  {
   "cell_type": "code",
   "execution_count": null,
   "metadata": {},
   "outputs": [],
   "source": [
    "tuple1 = (\"a\", \"b\", \"c\", \"d\") # creating a tuple\n",
    "print(tuple1[2]) # accessing an element in the tuple\n",
    "tuple2 = tuple1 + (\"e\", \"f\") # concatenating tuples\n",
    "del tuple1 # deleting the content of a tuple\n",
    "print(tuple2)"
   ]
  },
  {
   "cell_type": "code",
   "execution_count": null,
   "metadata": {},
   "outputs": [],
   "source": [
    "d = {\"name\": \"Bryan\",\n",
    "    \"company\": \"Code Gakko\"}\n",
    "# You can add to a dictionary by specifying key: value pairs\n",
    "d[\"country\"] = \"Singapore\"\n",
    "print(d)\n",
    "\n",
    "print(d[\"age\"]) # However, this will still produce a key error"
   ]
  },
  {
   "cell_type": "markdown",
   "metadata": {},
   "source": [
    "## Dictionaries\n",
    "\n",
    "When you open an actual dictionary, you search for a word, and the book tells you its associated meaning. Python dictionaries work the same way. You have a set of **keys**, and corresponding **values**.\n",
    "\n",
    "Check out the [docs](https://docs.python.org/3/tutorial/datastructures.html#dictionaries) for more information."
   ]
  },
  {
   "cell_type": "code",
   "execution_count": null,
   "metadata": {},
   "outputs": [],
   "source": [
    "user_color_preferences = {'Alice': 'green', 'Bob': 'yellow', 'Clara': 'red'} # creating a dictionary\n",
    "print(user_color_preferences['Alice']) # accessing the value associated with 'Alice'\n",
    "print('Bob' in user_color_preferences) # check whether 'Bob' is in the dictionary\n",
    "print('Dan' in user_color_preferences) # check whether 'Dan' is in the dictionary"
   ]
  },
  {
   "cell_type": "markdown",
   "metadata": {},
   "source": [
    "## Exercise 11.1\n",
    "\n",
    "Navigate the following data structure to print the value \"blue\". (Of course, `print(\"blue\")` is not the correct answer...)"
   ]
  },
  {
   "cell_type": "code",
   "execution_count": null,
   "metadata": {},
   "outputs": [],
   "source": [
    "# Solution to Exercise 11.1\n",
    "navigate_me = [\"abc\", [(False, 3.14, {\"foo\": 42, \"bar\": [\"Alice\", \"Bob\", {\"Clara\": \"blue\"}]}, True), 24, ([\"d\", \"e\", \"f\"], )]]\n",
    "\n",
    "print(navigate_me[1][0][2][\"bar\"][2][\"Clara\"])"
   ]
  },
  {
   "cell_type": "code",
   "execution_count": null,
   "metadata": {},
   "outputs": [],
   "source": []
  }
 ],
 "metadata": {
  "kernelspec": {
   "display_name": "Python 3",
   "language": "python",
   "name": "python3"
  },
  "language_info": {
   "codemirror_mode": {
    "name": "ipython",
    "version": 3
   },
   "file_extension": ".py",
   "mimetype": "text/x-python",
   "name": "python",
   "nbconvert_exporter": "python",
   "pygments_lexer": "ipython3",
   "version": "3.7.4"
  }
 },
 "nbformat": 4,
 "nbformat_minor": 2
}
